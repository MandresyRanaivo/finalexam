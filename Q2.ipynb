{
  "nbformat": 4,
  "nbformat_minor": 0,
  "metadata": {
    "colab": {
      "name": "Q2.ipynb",
      "provenance": [],
      "collapsed_sections": [],
      "authorship_tag": "ABX9TyNMfZGoI0l5tfMpjkLQqjJu",
      "include_colab_link": true
    },
    "kernelspec": {
      "name": "python3",
      "display_name": "Python 3"
    },
    "language_info": {
      "name": "python"
    }
  },
  "cells": [
    {
      "cell_type": "markdown",
      "metadata": {
        "id": "view-in-github",
        "colab_type": "text"
      },
      "source": [
        "<a href=\"https://colab.research.google.com/github/MandresyRanaivo/finalexam/blob/main/Q2.ipynb\" target=\"_parent\"><img src=\"https://colab.research.google.com/assets/colab-badge.svg\" alt=\"Open In Colab\"/></a>"
      ]
    },
    {
      "cell_type": "code",
      "execution_count": null,
      "metadata": {
        "id": "QmiYvzvvb8co"
      },
      "outputs": [],
      "source": [
        "import pandas as pd\n",
        "\n",
        "sales_df = pd.read_csv('elp_sales.csv')\n",
        "region_df = sales_df[sales_df.Region == \"Australia and Oceania\"]\n",
        "data = region_df[['Country', 'Total Profit']]\n",
        "df = data.groupby(\"Country\")\n",
        "# describing the data frame for total profit of each country in the Australia and Oceania Region\n",
        "df.describe()"
      ]
    },
    {
      "cell_type": "code",
      "source": [
        "data.plot.bar(x = \"Country\" ,y = \"Total Profit\", color = \"red\", title = 'Australia and Oceania Region Total Profit')"
      ],
      "metadata": {
        "id": "Wg9hvU7ycIyC"
      },
      "execution_count": null,
      "outputs": []
    }
  ]
}