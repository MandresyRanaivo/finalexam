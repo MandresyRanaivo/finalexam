{
  "nbformat": 4,
  "nbformat_minor": 0,
  "metadata": {
    "colab": {
      "name": "Q3.ipynb",
      "provenance": [],
      "authorship_tag": "ABX9TyMWut2cpMCLsr/2XcsMuDj9",
      "include_colab_link": true
    },
    "kernelspec": {
      "name": "python3",
      "display_name": "Python 3"
    },
    "language_info": {
      "name": "python"
    }
  },
  "cells": [
    {
      "cell_type": "markdown",
      "metadata": {
        "id": "view-in-github",
        "colab_type": "text"
      },
      "source": [
        "<a href=\"https://colab.research.google.com/github/MandresyRanaivo/finalexam/blob/main/Q3.ipynb\" target=\"_parent\"><img src=\"https://colab.research.google.com/assets/colab-badge.svg\" alt=\"Open In Colab\"/></a>"
      ]
    },
    {
      "cell_type": "code",
      "execution_count": 1,
      "metadata": {
        "colab": {
          "base_uri": "https://localhost:8080/"
        },
        "id": "M2PcxWL-_3OF",
        "outputId": "2a303046-0e3c-4e7c-e421-f4c03a51c458"
      },
      "outputs": [
        {
          "output_type": "stream",
          "name": "stdout",
          "text": [
            "I am thinking of a number between 1 and 100.\n",
            "Please enter a number between 1 and 100.\n",
            "> 50\n",
            "You have  9  guesses left. Take a guess.\n",
            "Your guess is too high.\n",
            "Please enter a number between 1 and 100.\n",
            "> 25\n",
            "You have  8  guesses left. Take a guess.\n",
            "Your guess is too high.\n",
            "Please enter a number between 1 and 100.\n",
            "> 15\n",
            "You have  7  guesses left. Take a guess.\n",
            "Your guess is too high.\n",
            "Please enter a number between 1 and 100.\n",
            "> 7\n",
            "You have  6  guesses left. Take a guess.\n",
            "Your guess is too low.\n",
            "Please enter a number between 1 and 100.\n",
            "> 10\n",
            "You have  5  guesses left. Take a guess.\n",
            "Your guess is too low.\n",
            "Please enter a number between 1 and 100.\n",
            "> 12\n",
            "You have  4  guesses left. Take a guess.\n",
            "Your guess is too low.\n",
            "Please enter a number between 1 and 100.\n",
            "> 13\n",
            "You guessed my number!\n"
          ]
        }
      ],
      "source": [
        "import random\n",
        "\n",
        "def askForGuess():\n",
        "  while True:\n",
        "    print('Please enter a number between 1 and 100.')\n",
        "    guess = input('> ') \n",
        "\n",
        "    if guess.isdecimal():\n",
        "        return int(guess)\n",
        "\n",
        "secretNumber = random.randint(1, 100)\n",
        "print('I am thinking of a number between 1 and 100.')\n",
        "\n",
        "guess = askForGuess()\n",
        "\n",
        "if (guess == secretNumber):\n",
        "    print('You guessed my number!')\n",
        "        \n",
        "elif (guess != secretNumber):\n",
        "    i = 9\n",
        "    while (guess != secretNumber) & (i > 0):\n",
        "        if (guess < secretNumber):\n",
        "            print('You have ', i ,' guesses left. Take a guess.')\n",
        "            print('Your guess is too low.')\n",
        "            guess = askForGuess()\n",
        "            i-=1\n",
        "        elif (guess > secretNumber):\n",
        "            print('You have ', i ,' guesses left. Take a guess.')\n",
        "            print('Your guess is too high.')\n",
        "            guess = askForGuess()\n",
        "            i-=1\n",
        "    if (guess == secretNumber):\n",
        "        print('You guessed my number!')\n",
        "    else:\n",
        "        print('No more guesses. The number I was thinking of was', secretNumber)"
      ]
    }
  ]
}