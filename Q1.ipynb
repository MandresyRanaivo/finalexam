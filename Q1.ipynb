{
  "nbformat": 4,
  "nbformat_minor": 0,
  "metadata": {
    "colab": {
      "name": "Q1.ipynb",
      "provenance": [],
      "collapsed_sections": [],
      "authorship_tag": "ABX9TyNxxys8qdOByhKGdaB0XgTr",
      "include_colab_link": true
    },
    "kernelspec": {
      "name": "python3",
      "display_name": "Python 3"
    },
    "language_info": {
      "name": "python"
    }
  },
  "cells": [
    {
      "cell_type": "markdown",
      "metadata": {
        "id": "view-in-github",
        "colab_type": "text"
      },
      "source": [
        "<a href=\"https://colab.research.google.com/github/MandresyRanaivo/finalexam/blob/main/Q1.ipynb\" target=\"_parent\"><img src=\"https://colab.research.google.com/assets/colab-badge.svg\" alt=\"Open In Colab\"/></a>"
      ]
    },
    {
      "cell_type": "code",
      "execution_count": 11,
      "metadata": {
        "colab": {
          "base_uri": "https://localhost:8080/"
        },
        "id": "_sPvMGGYa_2X",
        "outputId": "c61491c5-0417-471f-f807-3dbec44e8b8e"
      },
      "outputs": [
        {
          "output_type": "stream",
          "name": "stdout",
          "text": [
            "Welcome to the conversion machine.\n",
            "Enter the currency: USD\n",
            "Enter the amount to convert: 50\n",
            "50.0  USD =  69.0  AUD\n",
            "Thank you bye!\n"
          ]
        }
      ],
      "source": [
        "# defining an algorithm that converts the initial currency into AUD \n",
        "def convert(currency, amount):\n",
        "\tif (currency == 'USD'):\n",
        "\t\tfinal_result = float(amount * 1.38)\n",
        "\t\tprint(amount, \" USD = \", final_result, \" AUD\")\n",
        "\telif (currency == 'YEN'):\n",
        "\t\tfinal_result = float(amount * 0.01)\n",
        "\t\tprint(amount, \" YEN  = \", final_result, \" AUD\")\n",
        "\telse:\n",
        "\t\tprint(\"Choice out of range.\")\n",
        "\n",
        "print(\"Welcome to the conversion machine.\")\n",
        "\n",
        "# input from the users\n",
        "currency = input(\"Enter the currency: \")\n",
        "\n",
        "amount = float(input(\"Enter the amount to convert: \"))\n",
        "\n",
        "# calling the algorithm \n",
        "convert(currency, amount)\n",
        "\n",
        "print(\"Thank you bye!\")"
      ]
    },
    {
      "cell_type": "markdown",
      "source": [
        "- Step 1: Problem\n",
        "We need an application that converts YEN (Japanese) and USD (American) currencies into AUD (Australian) currency. \n",
        "\n",
        "- Step 2: Input and Output\n",
        "The user of the application will have to input:\n",
        "1- The initial currency to convert first. \n",
        "2- The amount to convert to AUD currency.\n",
        "\n",
        "And as output, the application should display:\n",
        "1- The initial amount that the user has input and the initial currency (USD or YEN).\n",
        "2- The amount converted in AUD currency.\n",
        "\n",
        "- Step 3: Tasks\n",
        "For this application, we need to display the instructions first (what the application is about, what the next step is). Then, we need to store the input (currency and amount) of the users to be reused (in variables).\n",
        "Then, depending on the currency input by the users, we need to perform the calculation whether we need to calculate based on YEN or USD.\n",
        "After the calculation is done, we need to display the final result on the screen with a greeting message at the end.\n",
        "\n",
        "We will use an algorithm called « convert » for the conversion part as it automates the converting tasks.\n",
        "\n",
        "- Step 4: Algorithm (pseudocode)\n",
        "Def convert(currency, amount):\n",
        "\tif choice == « USD »:\n",
        "\t\tfinal_result = float(amount * 1.38)\n",
        "\t\tprint(amount USD = final_result AUD)\n",
        "\telif choice == « YEN »:\n",
        "\t\tfinal_result = float(amount * 0.01)\n",
        "\t\tprint( amount USD = final_result AUD)\n",
        "\telse:\n",
        "\t\tprint(out of range)\n",
        "\treturn final_result\n",
        "\n",
        "Currency = input(Enter the currency)\n",
        "\n",
        "Amount = input(Enter the amount to convert)\n",
        "\n",
        "final_result = convert(Currency, Amount)\n",
        "\n",
        "print(Thank you bye)"
      ],
      "metadata": {
        "id": "hfU2qac1bVAL"
      }
    }
  ]
}